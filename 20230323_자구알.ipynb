{
  "cells": [
    {
      "cell_type": "markdown",
      "metadata": {
        "id": "view-in-github",
        "colab_type": "text"
      },
      "source": [
        "<a href=\"https://colab.research.google.com/github/seungw0n/algorithms/blob/master/20230323_%EC%9E%90%EA%B5%AC%EC%95%8C.ipynb\" target=\"_parent\"><img src=\"https://colab.research.google.com/assets/colab-badge.svg\" alt=\"Open In Colab\"/></a>"
      ]
    },
    {
      "cell_type": "code",
      "execution_count": null,
      "id": "bc24001c",
      "metadata": {
        "id": "bc24001c"
      },
      "outputs": [],
      "source": [
        "class Node:\n",
        "    def __init__(self, val):\n",
        "        self.val = val\n",
        "        self.next = None\n",
        "            \n",
        "\n",
        "class SinglyLinkedList:\n",
        "    def __init__(self):\n",
        "        self.head = None\n",
        "        self.tail = None\n",
        "        self.size = 0\n",
        "        \n",
        "    \n",
        "    def addLast(self, node): # 마지막에 element 추가\n",
        "        if self.size == 0:\n",
        "            self.head = node\n",
        "            self.tail = node\n",
        "        \n",
        "        self.tail.next = node\n",
        "        self.tail = node\n",
        "        \n",
        "        self.size += 1 # Track the size\n",
        "        \n",
        "        \n",
        "    def removeLast(self):\n",
        "        if self.size == 0:\n",
        "            print(\"Empty List!\")\n",
        "            return\n",
        "        \n",
        "        if self.size == 1:\n",
        "            self.head = None\n",
        "            self.tail = None\n",
        "            self.size = 0\n",
        "            return\n",
        "        \n",
        "        cur = self.head\n",
        "        \n",
        "        while cur is not None:\n",
        "            if cur.next == self.tail:\n",
        "                break\n",
        "            cur = cur.next\n",
        "        \n",
        "        # Now cur.next points tail, we need to remove it\n",
        "        cur.next = None\n",
        "        self.tail = cur\n",
        "        self.size -= 1\n",
        "        \n",
        "    \n",
        "    def traversal(self): # 리스트 순회\n",
        "        if self.size == 0:\n",
        "            print(\"NULL\")\n",
        "        elif self.size == 1:\n",
        "            print(self.head.val)\n",
        "        else:\n",
        "            cur = self.head\n",
        "\n",
        "            while cur is not None:\n",
        "                print(cur.val)\n",
        "                cur = cur.next\n",
        "\n"
      ]
    },
    {
      "cell_type": "code",
      "execution_count": null,
      "id": "daac4c38",
      "metadata": {
        "id": "daac4c38",
        "outputId": "bcd37343-622e-4806-e4da-ba3d1fbb1239"
      },
      "outputs": [
        {
          "name": "stdout",
          "output_type": "stream",
          "text": [
            "23\n"
          ]
        }
      ],
      "source": [
        "myList = SinglyLinkedList()\n",
        "\n",
        "myList.addLast(Node(23))\n",
        "myList.traversal()"
      ]
    },
    {
      "cell_type": "code",
      "execution_count": null,
      "id": "e0659285",
      "metadata": {
        "id": "e0659285",
        "outputId": "9c5642b9-d73e-4422-e472-534ad58f6c60"
      },
      "outputs": [
        {
          "name": "stdout",
          "output_type": "stream",
          "text": [
            "23\n",
            "3\n"
          ]
        }
      ],
      "source": [
        "myList.addLast(Node(3))\n",
        "myList.traversal()"
      ]
    },
    {
      "cell_type": "code",
      "execution_count": null,
      "id": "473a6bff",
      "metadata": {
        "id": "473a6bff",
        "outputId": "d357f227-5348-4032-f8d9-45c3d0592267"
      },
      "outputs": [
        {
          "name": "stdout",
          "output_type": "stream",
          "text": [
            "23\n",
            "3\n",
            "283\n"
          ]
        }
      ],
      "source": [
        "myList.addLast(Node(283))\n",
        "myList.traversal()"
      ]
    },
    {
      "cell_type": "code",
      "execution_count": null,
      "id": "8db209ae",
      "metadata": {
        "id": "8db209ae",
        "outputId": "cf08f802-7d17-4e58-cbf6-2880cda1c3b7"
      },
      "outputs": [
        {
          "name": "stdout",
          "output_type": "stream",
          "text": [
            "23\n",
            "3\n",
            "283\n",
            "7\n"
          ]
        }
      ],
      "source": [
        "myList.addLast(Node(7))\n",
        "myList.traversal()"
      ]
    },
    {
      "cell_type": "code",
      "execution_count": null,
      "id": "523446ca",
      "metadata": {
        "id": "523446ca",
        "outputId": "eed932b6-139f-4ab1-bc97-b70f71d6bd78"
      },
      "outputs": [
        {
          "name": "stdout",
          "output_type": "stream",
          "text": [
            "23\n",
            "3\n",
            "283\n"
          ]
        }
      ],
      "source": [
        "myList.removeLast()\n",
        "myList.traversal()"
      ]
    },
    {
      "cell_type": "code",
      "execution_count": null,
      "id": "bd9c125d",
      "metadata": {
        "id": "bd9c125d",
        "outputId": "0461a726-694e-4c3c-bb64-7529f696ba17"
      },
      "outputs": [
        {
          "name": "stdout",
          "output_type": "stream",
          "text": [
            "23\n",
            "3\n"
          ]
        }
      ],
      "source": [
        "myList.removeLast()\n",
        "myList.traversal()"
      ]
    },
    {
      "cell_type": "code",
      "execution_count": null,
      "id": "d0112e08",
      "metadata": {
        "id": "d0112e08",
        "outputId": "d45247c7-03b9-4817-e78a-7e949b82cf7b"
      },
      "outputs": [
        {
          "name": "stdout",
          "output_type": "stream",
          "text": [
            "23\n"
          ]
        }
      ],
      "source": [
        "myList.removeLast()\n",
        "myList.traversal()"
      ]
    },
    {
      "cell_type": "code",
      "execution_count": null,
      "id": "c85b3f7d",
      "metadata": {
        "id": "c85b3f7d",
        "outputId": "763fa7f0-f7b2-4a26-8127-7a3486c43098"
      },
      "outputs": [
        {
          "name": "stdout",
          "output_type": "stream",
          "text": [
            "NULL\n"
          ]
        }
      ],
      "source": [
        "myList.removeLast()\n",
        "myList.traversal()"
      ]
    },
    {
      "cell_type": "markdown",
      "id": "11914df3",
      "metadata": {
        "id": "11914df3"
      },
      "source": [
        "#### Todo1\n",
        "\n",
        "Implement a function \"removeNode(self, nodeWillBeRemoved)\"\n",
        "\n",
        "    Function removes the existing node. If given node is invalid, then print \"Invalid Node\"\n",
        "\n",
        "    Ex)\n",
        "    myList: 12 -> 42 -> 129 -> 88 -> 32 -> 31 -> NULL\n",
        "    \n",
        "    removeNode(42)\n",
        "    \n",
        "    then, myList: 12 -> 129 -> 88 -> 32 -> 31 -> NULL\n",
        "    \n",
        "    removeNode(131)\n",
        "    \n",
        "    then, \"Invalid Node\"\n",
        "\n",
        "    \n",
        "\n",
        "        "
      ]
    },
    {
      "cell_type": "markdown",
      "id": "7a9c1c8b",
      "metadata": {
        "id": "7a9c1c8b"
      },
      "source": [
        "#### Todo2\n",
        "Implement a function \"addFirst(self, node)\"\n",
        "\n",
        "    Function adds a node in front of the list.\n",
        "    \n",
        "    Ex)\n",
        "    myList: 12 -> 42 -> 33 -> NULL\n",
        "    \n",
        "    addFirst(0)\n",
        "    \n",
        "    then, myList: 0 -> 12 -> 42 -> 33 -> NULL\n",
        "    \n",
        "    addFirst(1)\n",
        "    \n",
        "    then, myList: 1 -> 0 -> 12 -> 42 -> 33 -> NULL"
      ]
    },
    {
      "cell_type": "code",
      "execution_count": null,
      "id": "445aa07f",
      "metadata": {
        "id": "445aa07f"
      },
      "outputs": [],
      "source": []
    }
  ],
  "metadata": {
    "kernelspec": {
      "display_name": "Python 3 (ipykernel)",
      "language": "python",
      "name": "python3"
    },
    "language_info": {
      "codemirror_mode": {
        "name": "ipython",
        "version": 3
      },
      "file_extension": ".py",
      "mimetype": "text/x-python",
      "name": "python",
      "nbconvert_exporter": "python",
      "pygments_lexer": "ipython3",
      "version": "3.9.13"
    },
    "colab": {
      "provenance": [],
      "include_colab_link": true
    }
  },
  "nbformat": 4,
  "nbformat_minor": 5
}