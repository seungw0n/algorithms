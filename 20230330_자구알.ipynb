{
  "nbformat": 4,
  "nbformat_minor": 0,
  "metadata": {
    "colab": {
      "provenance": [],
      "authorship_tag": "ABX9TyMgJOq9WVgSmJR6Q1gzTzKf",
      "include_colab_link": true
    },
    "kernelspec": {
      "name": "python3",
      "display_name": "Python 3"
    },
    "language_info": {
      "name": "python"
    }
  },
  "cells": [
    {
      "cell_type": "markdown",
      "metadata": {
        "id": "view-in-github",
        "colab_type": "text"
      },
      "source": [
        "<a href=\"https://colab.research.google.com/github/seungw0n/algorithms/blob/master/20230330_%EC%9E%90%EA%B5%AC%EC%95%8C.ipynb\" target=\"_parent\"><img src=\"https://colab.research.google.com/assets/colab-badge.svg\" alt=\"Open In Colab\"/></a>"
      ]
    },
    {
      "cell_type": "markdown",
      "source": [
        "<h3>백준 Python \b입력</h3>\n",
        "\n",
        "문제에서 주어진 input에 따른 입력(read) 방법"
      ],
      "metadata": {
        "id": "vru6w0s2JtNb"
      }
    },
    {
      "cell_type": "code",
      "source": [
        "# Starting code\n",
        "\n",
        "import sys\n",
        "\n",
        "# 문장 하나 입력받기\n",
        "line = sys.stdin.readLine()\n",
        "\n",
        "# 한개의 정수 입력받기\n",
        "N = int(sys.stdin.readLine()\n",
        "\n",
        "# 공백으로 구분된 2개 숫자 입력 받기\n",
        "N, M = map(int, sys.stdin.readLine().split())\n",
        "\n",
        "# 공백으로 구분된 3개 숫자 입력 받기\n",
        "A, B, C = map(int, sys.stdin.readLine().split())\n",
        "\n",
        "# 임의의 개수의 정수를 한 줄에 입력받아 리스트에 저장할 때\n",
        "lst = list(map(int, sys.stdin.readLine().split())\n",
        "\n",
        "# 임의의 개수의 정수를 n줄 입력받아 2차원 리스트에 저장할 때\n",
        "lst2 = []\n",
        "\n",
        "n = int(sys.stdin.readline())\n",
        "for i in range(n):\n",
        "  lst2.append(list(map(int, sys.stdin.readLine().split())))\n"
      ],
      "metadata": {
        "id": "nbju4vJLL5j_"
      },
      "execution_count": null,
      "outputs": []
    },
    {
      "cell_type": "markdown",
      "source": [
        "<h3>2023.03.30</h3>\n",
        "<h3>Topic: Tree, Graph Traversals</h3>\n",
        "<br>\n",
        "\n",
        "<h4>백준4963번: 섬의 개수 || 릿코드200번: Number of Islands</h4>\n",
        "\n",
        "\n",
        "백준 릿코드 문제 다른 점: horizontally, vertically, diagnoally\n",
        "<br>\n",
        "<br>\n",
        "릿코드 200번 파이썬 풀이과정"
      ],
      "metadata": {
        "id": "rFx3t84OMFO0"
      }
    },
    {
      "cell_type": "code",
      "source": [
        "class Solution:\n",
        "    def is_valid(self, x, y) -> bool:\n",
        "        if x >= 0 and x < self.max_x and y >= 0 and y < self.max_y and self.map[x][y] == '1':\n",
        "            return True\n",
        "        return False\n",
        "\n",
        "    def dfs(self, current_x: int, current_y: int):\n",
        "        self.map[current_x][current_y] = '-1'\n",
        "\n",
        "        for i in range(4):\n",
        "            new_x = current_x + self.dx[i]\n",
        "            new_y = current_y + self.dy[i]\n",
        "            if self.is_valid(new_x, new_y):\n",
        "                self.dfs(new_x, new_y)\n",
        "\n",
        "\n",
        "    def numIslands(self, grid: List[List[str]]) -> int:\n",
        "        self.map = grid\n",
        "\n",
        "        self.max_x = len(grid)\n",
        "        self.max_y = len(grid[0])\n",
        "\n",
        "        self.dx = [-1, 0, 0, 1]\n",
        "        self.dy = [0, -1, 1, 0]\n",
        "\n",
        "        num_of_islands = 0\n",
        "\n",
        "        for i in range(self.max_x):\n",
        "            for j in range(self.max_y):\n",
        "                if self.map[i][j] == '1':\n",
        "                    self.dfs(i, j)\n",
        "                    num_of_islands += 1\n",
        "        \n",
        "        return num_of_islands\n",
        "\n",
        "        "
      ],
      "metadata": {
        "id": "lamzNuYuNJtX"
      },
      "execution_count": null,
      "outputs": []
    },
    {
      "cell_type": "markdown",
      "source": [
        "\b백준 4963번 자바 풀이과정\n"
      ],
      "metadata": {
        "id": "Hnu_1YyMNWBH"
      }
    },
    {
      "cell_type": "code",
      "source": [
        "import java.io.*;\n",
        "\n",
        "public class Main {\n",
        "\tprivate static int h;\n",
        "\tprivate static int w;\n",
        "\tprivate static int[][] map;\n",
        "\t\n",
        "\tprivate static int[] dx = {\n",
        "\t\t\t-1, -1, -1, 0, 0, 1, 1, 1\n",
        "\t};\n",
        "\t\n",
        "\tprivate static int[] dy = {\n",
        "\t\t\t-1, 0, 1, -1, 1, -1, 0, 1\n",
        "\t};\n",
        "\t\n",
        "\tprivate static boolean isValid(int x, int y) {\n",
        "\t\tif (x < 0 || x >= h || y < 0 || y >= w) return false;\n",
        "\t\tif (map[x][y] == 1) return true;\n",
        "\t\treturn false;\n",
        "\t}\n",
        "\t\n",
        "\tprivate static void dfs(int x, int y) {\n",
        "\t\tmap[x][y] = -1; // visit\n",
        "\t\t\n",
        "\t\tfor (int i = 0; i < 8; i++) {\n",
        "\t\t\tint x1 = x + dx[i];\n",
        "\t\t\tint y1 = y + dy[i];\n",
        "\t\t\t\n",
        "\t\t\tif (isValid(x1, y1)) {\n",
        "\t\t\t\tdfs(x1, y1);\n",
        "\t\t\t}\n",
        "\t\t}\n",
        "\t}\n",
        "\t\n",
        "\tpublic static void main(String[] args) throws IOException {\n",
        "\t\tBufferedReader br = new BufferedReader(new InputStreamReader(System.in));\n",
        "\t\tBufferedWriter bw = new BufferedWriter(new OutputStreamWriter(System.out));\n",
        "\t\t\n",
        "\t\t\n",
        "\t\twhile (true) {\n",
        "\t\t\tString line = br.readLine();\n",
        "\t\t\t\n",
        "\t\t\tif (line.equals(\"0 0\")) break;\n",
        "\t\t\t\n",
        "\t\t\t\n",
        "\t\t\tw = Integer.parseInt(line.split(\" \")[0]);\n",
        "\t\t\th = Integer.parseInt(line.split(\" \")[1]);\n",
        "\t\t\t\n",
        "\t\t\tmap = new int[h][w];\n",
        "\t\t\t\n",
        "\t\t\tfor (int i = 0; i < h; i++) {\n",
        "\t\t\t\tline = br.readLine();\n",
        "\t\t\t\t\n",
        "\t\t\t\tfor (int j = 0; j < w; j++) {\n",
        "\t\t\t\t\tmap[i][j] = Integer.parseInt(line.split(\" \")[j]);\n",
        "\t\t\t\t}\n",
        "\t\t\t}\n",
        "\t\t\t\n",
        "\t\t\tint cnt = 0;\n",
        "\t\t\t\n",
        "\t\t\tfor (int i = 0; i < h; i++) {\n",
        "\t\t\t\tfor (int j = 0; j < w; j++) {\n",
        "\t\t\t\t\tif (map[i][j] == 1) {\n",
        "\t\t\t\t\t\tdfs(i, j);\n",
        "\t\t\t\t\t\tcnt++;\n",
        "\t\t\t\t\t}\n",
        "\t\t\t\t}\n",
        "\t\t\t}\n",
        "\t\t\t\n",
        "\t\t\tbw.write(cnt + \"\\n\");\n",
        "\t\t\t\n",
        "\t\t\t\n",
        "\t\t}\n",
        "\t\t\n",
        "\t\tbw.flush();\n",
        "\t\tbw.close();\n",
        "\t\tbr.close();\n",
        "\t\t\n",
        "\t}\n",
        "\t\n",
        "}"
      ],
      "metadata": {
        "id": "EJ7mymkNPj8B"
      },
      "execution_count": null,
      "outputs": []
    },
    {
      "cell_type": "markdown",
      "source": [
        "<h3>Todo</h3>\n",
        "\n",
        "Review: Tree traversals (pre/in/post order), BFS, DFS\n",
        "\n",
        "Study: 다익스트라 알고리즘\n",
        "\n",
        "References:\n",
        "\n",
        "- Tree Traversal: https://www.programiz.com/dsa/tree-traversal\n",
        "\n",
        "- BFS: https://www.programiz.com/dsa/graph-bfs \n",
        "\n",
        "- DFS: https://www.programiz.com/dsa/graph-dfs\n",
        "\n",
        "\n",
        "\bPractice:\n",
        "- 백준 4963: https://www.acmicpc.net/problem/4963\n",
        "- 백준 2178: https://www.acmicpc.net/problem/2178\n",
        "- 백준 1753<어려움>: https://www.acmicpc.net/problem/1753\n"
      ],
      "metadata": {
        "id": "MhiIP5S1Pp3S"
      }
    }
  ]
}